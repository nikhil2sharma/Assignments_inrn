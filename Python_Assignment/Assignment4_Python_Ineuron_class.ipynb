{
 "cells": [
  {
   "cell_type": "markdown",
   "metadata": {},
   "source": [
    "# Assignment-4\n",
    "Topic : Class,Function\n",
    "Prepared By : Nikhil Sharma\n",
    "Date : 25-09-20"
   ]
  },
  {
   "cell_type": "raw",
   "metadata": {},
   "source": [
    "1.1 Write a Python Program(with class concepts) to find the area of the triangle using the below\n",
    "formula.\n",
    "area = (s*(s-a)*(s-b)*(s-c)) ** 0.5\n",
    "Function to take the length of the sides of triangle from user should be defined in the parent\n",
    "class and function to calculate the area should be defined in subclass."
   ]
  },
  {
   "cell_type": "code",
   "execution_count": null,
   "metadata": {},
   "outputs": [],
   "source": [
    "class LENGTHOFTRIANGLE:\n",
    "    def __init__(self,side1,side2,side3):\n",
    "        self.side1=side1\n",
    "        self.side2=side2\n",
    "        self.side3=side3\n",
    "        print(\"Superclass initialisation of triangle sides [\" + str(side1) + \",\" + str(side2) + \",\" + str(side3) + \"]\")\n",
    "class SUBCLASSTRIANGLE(LENGTHOFTRIANGLE):\n",
    "    def __init__(self,side1,side2,side3):\n",
    "        #Initialising using parent class\n",
    "        print (\"Initialised SUBCLASSTRIANGLE Child class\" )\n",
    "        super().__init__(side1,side2,side3)\n",
    "        \n",
    "    def get_area(self):\n",
    "        s=(self.side1+self.side2+self.side3)/2\n",
    "        print(str(s))\n",
    "        return (s*(s-self.side1)*(s-self.side2)*(s-self.side3))**0.5\n",
    "#         return (s*(s-self.side1)*(s-self.side2)*(s-self.side3)) **0.5\n",
    "        \n",
    "a=SUBCLASSTRIANGLE(3,4,5)\n",
    "print('Area of triangle',str(a.get_area()))\n",
    "        "
   ]
  },
  {
   "cell_type": "raw",
   "metadata": {},
   "source": [
    "1.2 Write a function filter_long_words() that takes a list of words and an integer n and returns\n",
    "the list of words that are longer than n."
   ]
  },
  {
   "cell_type": "code",
   "execution_count": null,
   "metadata": {},
   "outputs": [],
   "source": [
    "def filter_long_words(l):\n",
    "    max1=l[0]\n",
    "    for elem in l:\n",
    "        if len(elem) > len(max1):\n",
    "            max1=elem\n",
    "    return max1\n",
    "\n",
    "# p=[(100,2),(10,30),(0,15)]\n",
    "\n",
    "\n",
    "def find_longest_word(words_list):\n",
    "    word_len = []\n",
    "    for n in words_list:\n",
    "        word_len.append((len(n), n))\n",
    "    word_len.sort()\n",
    "    return word_len[-1][1]\n",
    "\n",
    "\n",
    "l=[\"TCL\", \"SUSHANTSINGHRAJPUT\", \"RIACHACRABOTY\",'AT']\n",
    "\n",
    "print('Way1>>>>>',filter_long_words(l))\n",
    "print('Way2>>>>>',find_longest_word(l))"
   ]
  },
  {
   "cell_type": "markdown",
   "metadata": {},
   "source": [
    "2.1 Write a Python program using function concept that maps list of words into a list of integers\n",
    "representing the lengths of the corresponding words.\n",
    "Hint: If a list [ ab,cde,erty] is passed on to the python function output should come as [2,3,4]\n",
    "Here 2,3 and 4 are the lengths of the words in the list."
   ]
  },
  {
   "cell_type": "code",
   "execution_count": null,
   "metadata": {},
   "outputs": [],
   "source": [
    "def list_len1way(l):\n",
    "    len_list=[]\n",
    "    \n",
    "    for elem in l:\n",
    "        len_list.append(len(elem))\n",
    "    return len_list\n",
    "\n",
    "def list_len2way(l):\n",
    "    return [len(elem_len) for elem_len in l]\n",
    "\n",
    "def list_len3way(l):\n",
    "    return list(map(lambda x:len(x),l)) #Here for loop not used\n",
    "    \n",
    "a=['ab','cde','erty']\n",
    "print(list_len1way(a))\n",
    "print(list_len2way(a))\n",
    "print(list_len3way(a))"
   ]
  },
  {
   "cell_type": "raw",
   "metadata": {},
   "source": [
    "2.2 Write a Python function which takes a character (i.e. a string of length 1) and returns True if\n",
    "it is a vowel, False otherwise."
   ]
  },
  {
   "cell_type": "code",
   "execution_count": null,
   "metadata": {},
   "outputs": [],
   "source": [
    "def check_vowel():\n",
    "    char=input('Enter a character : ')\n",
    "    if char in 'aeiou':\n",
    "        return True\n",
    "    else:\n",
    "        return False\n",
    "    \n",
    "check_vowel()"
   ]
  },
  {
   "cell_type": "code",
   "execution_count": null,
   "metadata": {},
   "outputs": [],
   "source": []
  }
 ],
 "metadata": {
  "kernelspec": {
   "display_name": "Python 3",
   "language": "python",
   "name": "python3"
  },
  "language_info": {
   "codemirror_mode": {
    "name": "ipython",
    "version": 3
   },
   "file_extension": ".py",
   "mimetype": "text/x-python",
   "name": "python",
   "nbconvert_exporter": "python",
   "pygments_lexer": "ipython3",
   "version": "3.7.0"
  }
 },
 "nbformat": 4,
 "nbformat_minor": 2
}
