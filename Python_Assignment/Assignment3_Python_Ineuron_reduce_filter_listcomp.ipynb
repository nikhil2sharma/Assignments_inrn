{
 "cells": [
  {
   "cell_type": "markdown",
   "metadata": {},
   "source": [
    "# Assignment_3 Solution\n",
    "#By  : Nikhil Sharma\n",
    "#Date_Of_Completion : 24-09-2020\n"
   ]
  },
  {
   "cell_type": "raw",
   "metadata": {},
   "source": [
    "1.1 :Write a Python Program to implement your own myreduce() function which works exactly like Python's built-in function reduce()"
   ]
  },
  {
   "cell_type": "code",
   "execution_count": 27,
   "metadata": {},
   "outputs": [
    {
     "name": "stdout",
     "output_type": "stream",
     "text": [
      "Available library function result 10\n",
      "Sum on list [1,2,3] using custom reduce function 6\n"
     ]
    }
   ],
   "source": [
    "# Reduce will produce a single result\n",
    "\n",
    "from functools import reduce\n",
    "\n",
    "lst=[1,2,3,4]\n",
    "\n",
    "def sum1(a,b):\n",
    "    return a+b\n",
    "\n",
    "#Trdaitional function use\n",
    "result_traditional = reduce(sum1,lst)\n",
    "print('Available library function result',result_traditional)\n",
    "\n",
    "\n",
    "\n",
    "# User Define function :\n",
    "def myreduce(anyfunc,sequence):\n",
    "    #Get firt item of the sequence and assign to result\n",
    "    result=sequence[0]\n",
    "    # iterate over remaining items in sequence and apply reduction function \n",
    "    for elem in sequence[1:]:\n",
    "        result=anyfunc(result,elem)\n",
    "    return result\n",
    "        \n",
    "print (\"Sum on list [1,2,3] using custom reduce function \"   + str(myreduce(sum1, [1,2,3])) )"
   ]
  },
  {
   "cell_type": "raw",
   "metadata": {},
   "source": [
    "1.2 Write a Python program to implement your own myfilter() function which works exactly\n",
    "like Python's built-in function filter()"
   ]
  },
  {
   "cell_type": "code",
   "execution_count": 35,
   "metadata": {},
   "outputs": [
    {
     "name": "stdout",
     "output_type": "stream",
     "text": [
      "Available library function result [0, 2, 4, 6, 8, 10, 12, 14, 16, 18]\n",
      "Even no list list(range(20)) using custom filter function [0, 2, 4, 6, 8, 10, 12, 14, 16, 18]\n"
     ]
    }
   ],
   "source": [
    "#Custom filter function\n",
    "l=list(range(20))\n",
    "\n",
    "def even(num):\n",
    "    if num%2 ==0:\n",
    "        return True\n",
    "    else:\n",
    "        return False\n",
    "    \n",
    "\n",
    "#Trdaitional function use\n",
    "result_traditional1 = list(filter(even,l))\n",
    "print('Available library function result',result_traditional1) \n",
    "\n",
    "\n",
    "def my_filter(anyfunc,sequence):\n",
    "    #Initialize the empty list\n",
    "    result=[]\n",
    "    #Iterate over sequence of item and apply sequence function\n",
    "    for elem in sequence:\n",
    "        if anyfunc(elem):\n",
    "            result.append(elem)\n",
    "    # return the final output\n",
    "    return result\n",
    "        \n",
    "\n",
    "    \n",
    "print (\"Even no list list(range(20)) using custom filter function \"   + str(my_filter(even,l)))  \n"
   ]
  },
  {
   "cell_type": "raw",
   "metadata": {},
   "source": [
    "2.Implement List comprehensions to produce the following lists.\n",
    "Write List comprehensions to produce the following Lists\n",
    "['A', 'C', 'A', 'D', 'G', 'I', ’L’, ‘ D’]\n",
    "['x', 'xx', 'xxx', 'xxxx', 'y', 'yy', 'yyy', 'yyyy', 'z', 'zz', 'zzz', 'zzzz']\n",
    "['x', 'y', 'z', 'xx', 'yy', 'zz', 'xxx', 'yyy', 'zzz', 'xxxx', 'yyyy', 'zzzz']\n",
    "[[2], [3], [4], [3], [4], [5], [4], [5], [6]] [[2, 3, 4, 5], [3, 4, 5, 6],\n",
    "[4, 5, 6, 7], [5, 6, 7, 8]]\n",
    "[(1, 1), (2, 1), (3, 1), (1, 2), (2, 2), (3, 2), (1, 3), (2, 3), (3, 3)]"
   ]
  },
  {
   "cell_type": "code",
   "execution_count": 53,
   "metadata": {},
   "outputs": [
    {
     "name": "stdout",
     "output_type": "stream",
     "text": [
      "alphabet_lst ['A', 'C', 'A', 'D', 'G', 'I', 'L', 'D']\n",
      "out_2 ['x', 'xx', 'xxx', 'xxxx', 'y', 'yy', 'yyy', 'yyyy', 'z', 'zz', 'zzz', 'zzzz']\n",
      "out_3 ['x', 'y', 'z', 'xx', 'yy', 'zz', 'xxx', 'yyy', 'zzz', 'xxxx', 'yyyy', 'zzzz']\n",
      "out_4 [[2], [3], [4], [3], [4], [5], [4], [5], [6]]\n",
      "out_5 [[2, 3, 4, 5], [3, 4, 5, 6], [4, 5, 6, 7], [5, 6, 7, 8]]\n",
      "[(1, 1), (2, 1), (3, 1), (1, 2), (2, 2), (3, 2), (1, 3), (2, 3), (3, 3)]\n"
     ]
    }
   ],
   "source": [
    "### Desired Output1: ['A', 'C', 'A', 'D', 'G', 'I', ’L’, ‘ D’]\n",
    "alp='ACADGILD'\n",
    "alphabet_lst=[word for word in alp]\n",
    "print('alphabet_lst',alphabet_lst)\n",
    "### Desired Output2 :['x', 'xx', 'xxx', 'xxxx', 'y', 'yy', 'yyy', 'yyyy', 'z', 'zz', 'zzz', 'zzzz']\n",
    "out_2=[word_str*count for word_str in 'xyz' for count in range(1,5)]\n",
    "print('out_2',out_2)\n",
    "\n",
    "###### Desired Output3 :['x', 'y', 'z', 'xx', 'yy', 'zz', 'xxx', 'yyy', 'zzz', 'xxxx', 'yyyy', 'zzzz']\n",
    "out_3= [word*count for count in range(1,5) for word in 'xyz' ]\n",
    "print('out_3',out_3)\n",
    "\n",
    "####Desired Output4 : [[2], [3], [4], [3], [4], [5], [4], [5], [6]]\n",
    "\n",
    "out_4 = [[num +item] for num in range(2,5) for item in range(0,3) ]\n",
    "print('out_4',out_4)\n",
    "\n",
    "\n",
    "###Desired Output5: [[2, 3, 4, 5], [3, 4, 5, 6], [4, 5, 6, 7], [5, 6, 7, 8]]\n",
    "\n",
    "out_5 = [[item+num for item in [2,3,4,5]] for num in range(4)]\n",
    "print('out_5',out_5)\n",
    "\n",
    "###Desired Output6:[(1, 1), (2, 1), (3, 1), (1, 2), (2, 2), (3, 2), (1, 3), (2, 3), (3, 3)]\n",
    "out_6= [(elem2,elem1) for elem1 in [1,2,3] for elem2 in [1,2,3] ]\n",
    "print(out_6)"
   ]
  },
  {
   "cell_type": "code",
   "execution_count": null,
   "metadata": {},
   "outputs": [],
   "source": []
  }
 ],
 "metadata": {
  "kernelspec": {
   "display_name": "Python 3",
   "language": "python",
   "name": "python3"
  },
  "language_info": {
   "codemirror_mode": {
    "name": "ipython",
    "version": 3
   },
   "file_extension": ".py",
   "mimetype": "text/x-python",
   "name": "python",
   "nbconvert_exporter": "python",
   "pygments_lexer": "ipython3",
   "version": "3.7.0"
  }
 },
 "nbformat": 4,
 "nbformat_minor": 2
}
